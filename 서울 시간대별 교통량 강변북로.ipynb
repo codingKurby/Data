{
 "cells": [
  {
   "cell_type": "code",
   "execution_count": 2,
   "id": "71302453",
   "metadata": {},
   "outputs": [],
   "source": [
    "import pandas as pd\n",
    "import numpy as np"
   ]
  },
  {
   "cell_type": "code",
   "execution_count": 3,
   "id": "e017156c",
   "metadata": {},
   "outputs": [
    {
     "data": {
      "text/html": [
       "<div>\n",
       "<style scoped>\n",
       "    .dataframe tbody tr th:only-of-type {\n",
       "        vertical-align: middle;\n",
       "    }\n",
       "\n",
       "    .dataframe tbody tr th {\n",
       "        vertical-align: top;\n",
       "    }\n",
       "\n",
       "    .dataframe thead th {\n",
       "        text-align: right;\n",
       "    }\n",
       "</style>\n",
       "<table border=\"1\" class=\"dataframe\">\n",
       "  <thead>\n",
       "    <tr style=\"text-align: right;\">\n",
       "      <th></th>\n",
       "      <th>서울도시고속도로 노선별 시간대별 교통량(평일평균)</th>\n",
       "      <th>Unnamed: 1</th>\n",
       "      <th>Unnamed: 2</th>\n",
       "      <th>Unnamed: 3</th>\n",
       "      <th>Unnamed: 4</th>\n",
       "      <th>Unnamed: 5</th>\n",
       "      <th>Unnamed: 6</th>\n",
       "      <th>Unnamed: 7</th>\n",
       "      <th>Unnamed: 8</th>\n",
       "      <th>Unnamed: 9</th>\n",
       "      <th>Unnamed: 10</th>\n",
       "      <th>Unnamed: 11</th>\n",
       "      <th>Unnamed: 12</th>\n",
       "      <th>Unnamed: 13</th>\n",
       "      <th>Unnamed: 14</th>\n",
       "      <th>Unnamed: 15</th>\n",
       "      <th>Unnamed: 16</th>\n",
       "      <th>Unnamed: 17</th>\n",
       "      <th>(단위 : 대/일)</th>\n",
       "    </tr>\n",
       "  </thead>\n",
       "  <tbody>\n",
       "    <tr>\n",
       "      <th>0</th>\n",
       "      <td>시간대</td>\n",
       "      <td>내부순환로</td>\n",
       "      <td>NaN</td>\n",
       "      <td>강변북로</td>\n",
       "      <td>NaN</td>\n",
       "      <td>북부간선도로</td>\n",
       "      <td>NaN</td>\n",
       "      <td>올림픽대로</td>\n",
       "      <td>NaN</td>\n",
       "      <td>동부간선도로</td>\n",
       "      <td>NaN</td>\n",
       "      <td>분당수서로</td>\n",
       "      <td>NaN</td>\n",
       "      <td>경부고속도로</td>\n",
       "      <td>NaN</td>\n",
       "      <td>서부간선도로</td>\n",
       "      <td>NaN</td>\n",
       "      <td>강남순환로</td>\n",
       "      <td>NaN</td>\n",
       "    </tr>\n",
       "    <tr>\n",
       "      <th>1</th>\n",
       "      <td>NaN</td>\n",
       "      <td>동향</td>\n",
       "      <td>서향</td>\n",
       "      <td>동향</td>\n",
       "      <td>서향</td>\n",
       "      <td>동향</td>\n",
       "      <td>서향</td>\n",
       "      <td>동향</td>\n",
       "      <td>서향</td>\n",
       "      <td>북향</td>\n",
       "      <td>남향</td>\n",
       "      <td>북향</td>\n",
       "      <td>남향</td>\n",
       "      <td>북향</td>\n",
       "      <td>남향</td>\n",
       "      <td>북향</td>\n",
       "      <td>남향</td>\n",
       "      <td>동향</td>\n",
       "      <td>서향</td>\n",
       "    </tr>\n",
       "    <tr>\n",
       "      <th>2</th>\n",
       "      <td>0</td>\n",
       "      <td>1296</td>\n",
       "      <td>1012</td>\n",
       "      <td>2480</td>\n",
       "      <td>2086</td>\n",
       "      <td>1070</td>\n",
       "      <td>814</td>\n",
       "      <td>1945</td>\n",
       "      <td>2790</td>\n",
       "      <td>1916</td>\n",
       "      <td>1118</td>\n",
       "      <td>988</td>\n",
       "      <td>1097</td>\n",
       "      <td>1822</td>\n",
       "      <td>2239</td>\n",
       "      <td>1356</td>\n",
       "      <td>1486</td>\n",
       "      <td>531</td>\n",
       "      <td>803</td>\n",
       "    </tr>\n",
       "    <tr>\n",
       "      <th>3</th>\n",
       "      <td>1</td>\n",
       "      <td>880</td>\n",
       "      <td>695</td>\n",
       "      <td>1633</td>\n",
       "      <td>1374</td>\n",
       "      <td>748</td>\n",
       "      <td>570</td>\n",
       "      <td>1308</td>\n",
       "      <td>1974</td>\n",
       "      <td>1278</td>\n",
       "      <td>745</td>\n",
       "      <td>749</td>\n",
       "      <td>684</td>\n",
       "      <td>1297</td>\n",
       "      <td>1456</td>\n",
       "      <td>869</td>\n",
       "      <td>933</td>\n",
       "      <td>309</td>\n",
       "      <td>480</td>\n",
       "    </tr>\n",
       "    <tr>\n",
       "      <th>4</th>\n",
       "      <td>2</td>\n",
       "      <td>634</td>\n",
       "      <td>528</td>\n",
       "      <td>1217</td>\n",
       "      <td>1002</td>\n",
       "      <td>588</td>\n",
       "      <td>440</td>\n",
       "      <td>1018</td>\n",
       "      <td>1537</td>\n",
       "      <td>907</td>\n",
       "      <td>567</td>\n",
       "      <td>576</td>\n",
       "      <td>512</td>\n",
       "      <td>1015</td>\n",
       "      <td>1102</td>\n",
       "      <td>651</td>\n",
       "      <td>668</td>\n",
       "      <td>220</td>\n",
       "      <td>322</td>\n",
       "    </tr>\n",
       "  </tbody>\n",
       "</table>\n",
       "</div>"
      ],
      "text/plain": [
       "  서울도시고속도로 노선별 시간대별 교통량(평일평균) Unnamed: 1 Unnamed: 2 Unnamed: 3 Unnamed: 4  \\\n",
       "0                         시간대     내부순환로         NaN       강변북로        NaN   \n",
       "1                         NaN         동향         서향         동향         서향   \n",
       "2                           0       1296       1012       2480       2086   \n",
       "3                           1        880        695       1633       1374   \n",
       "4                           2        634        528       1217       1002   \n",
       "\n",
       "  Unnamed: 5 Unnamed: 6 Unnamed: 7 Unnamed: 8 Unnamed: 9 Unnamed: 10  \\\n",
       "0     북부간선도로        NaN      올림픽대로        NaN     동부간선도로         NaN   \n",
       "1         동향         서향         동향         서향         북향          남향   \n",
       "2       1070        814       1945       2790       1916        1118   \n",
       "3        748        570       1308       1974       1278         745   \n",
       "4        588        440       1018       1537        907         567   \n",
       "\n",
       "  Unnamed: 11 Unnamed: 12 Unnamed: 13 Unnamed: 14 Unnamed: 15 Unnamed: 16  \\\n",
       "0       분당수서로         NaN      경부고속도로         NaN      서부간선도로         NaN   \n",
       "1          북향          남향          북향          남향          북향          남향   \n",
       "2         988        1097        1822        2239        1356        1486   \n",
       "3         749         684        1297        1456         869         933   \n",
       "4         576         512        1015        1102         651         668   \n",
       "\n",
       "  Unnamed: 17 (단위 : 대/일)  \n",
       "0       강남순환로        NaN  \n",
       "1          동향         서향  \n",
       "2         531        803  \n",
       "3         309        480  \n",
       "4         220        322  "
      ]
     },
     "execution_count": 3,
     "metadata": {},
     "output_type": "execute_result"
    }
   ],
   "source": [
    "seoul_traffic = pd.read_excel('./data/노선별 시간대별 교통량(평일).xlsx')\n",
    "seoul_traffic.head(5)"
   ]
  },
  {
   "cell_type": "code",
   "execution_count": 4,
   "id": "8f837287",
   "metadata": {},
   "outputs": [
    {
     "data": {
      "text/plain": [
       "2     2480\n",
       "3     1633\n",
       "4     1217\n",
       "5     1182\n",
       "6     1985\n",
       "7     5145\n",
       "8     6758\n",
       "9     6694\n",
       "10    6387\n",
       "11    6258\n",
       "12    6183\n",
       "13    6154\n",
       "14    6217\n",
       "15    6210\n",
       "16    6107\n",
       "17    5943\n",
       "18    5444\n",
       "19    4485\n",
       "20    4440\n",
       "21    4740\n",
       "22    5662\n",
       "23    6037\n",
       "24    5409\n",
       "25    3892\n",
       "Name: Unnamed: 3, dtype: object"
      ]
     },
     "execution_count": 4,
     "metadata": {},
     "output_type": "execute_result"
    }
   ],
   "source": [
    "#강변북로 동향\n",
    "gang_e = seoul_traffic.iloc[2:,3]\n",
    "gang_e"
   ]
  },
  {
   "cell_type": "code",
   "execution_count": 5,
   "id": "1d025d68",
   "metadata": {},
   "outputs": [
    {
     "data": {
      "text/plain": [
       "2     2086\n",
       "3     1374\n",
       "4     1002\n",
       "5      924\n",
       "6     1250\n",
       "7     2867\n",
       "8     5975\n",
       "9     6658\n",
       "10    6509\n",
       "11    6402\n",
       "12    6280\n",
       "13    6241\n",
       "14    6206\n",
       "15    6186\n",
       "16    6135\n",
       "17    6021\n",
       "18    5674\n",
       "19    4586\n",
       "20    3572\n",
       "21    3832\n",
       "22    5044\n",
       "23    5579\n",
       "24    5276\n",
       "25    3519\n",
       "Name: Unnamed: 4, dtype: object"
      ]
     },
     "execution_count": 5,
     "metadata": {},
     "output_type": "execute_result"
    }
   ],
   "source": [
    "#강변북로 서향\n",
    "gang_w = seoul_traffic.iloc[2:,4]\n",
    "gang_w"
   ]
  },
  {
   "cell_type": "code",
   "execution_count": 37,
   "id": "9c59e0d3",
   "metadata": {},
   "outputs": [],
   "source": [
    "#강변북로 동향,서향 통행량 차이\n",
    "gang = seoul_traffic.iloc[2:,3:5]\n",
    "gang = gang.diff(axis=1)\n",
    "gang = gang.abs()\n",
    "gang_diff = gang.iloc[:,1]\n",
    "gang_diff = gang_diff.values"
   ]
  },
  {
   "cell_type": "code",
   "execution_count": 35,
   "id": "e2c2a566",
   "metadata": {},
   "outputs": [],
   "source": [
    "gang = seoul_traffic.iloc[2:,3:5]\n",
    "gang_mean = gang.mean(axis=1)\n",
    "gang_mean = gang_mean.values"
   ]
  },
  {
   "cell_type": "code",
   "execution_count": 7,
   "id": "5c3dad43",
   "metadata": {},
   "outputs": [],
   "source": [
    "import matplotlib.pyplot as plt"
   ]
  },
  {
   "cell_type": "code",
   "execution_count": 38,
   "id": "2e6015e8",
   "metadata": {},
   "outputs": [
    {
     "data": {
      "image/png": "[encoded data removed]",
      "text/plain": [
       "<Figure size 400x300 with 2 Axes>"
      ]
     },
     "metadata": {},
     "output_type": "display_data"
    }
   ],
   "source": [
    "# 1. 기본 스타일 설정\n",
    "plt.style.use('default')\n",
    "plt.rcParams['figure.figsize'] = (4, 3)\n",
    "plt.rcParams['font.size'] = 9\n",
    "\n",
    "# 2. 데이터 준비\n",
    "x = np.arange(24)\n",
    "time = [0,1,2,3,4,5,6,7,8,9,10,11,12,13,14,15,16,17,18,19,20,21,22,23]\n",
    "\n",
    "# 3. 그래프 그리기\n",
    "fig, ax1 = plt.subplots()\n",
    "\n",
    "ax1.plot(x, gang_diff, '-s', color='steelblue', markersize=7, linewidth=3, alpha=0.7, label='Diff')\n",
    "ax1.set_xlabel('Time')\n",
    "ax1.set_ylabel('Diff')\n",
    "ax1.tick_params(axis='both', direction='in')\n",
    "\n",
    "ax2 = ax1.twinx()\n",
    "ax2.bar(x, gang_mean, color='lightblue', label='Inner', alpha=0.6, width=0.7)\n",
    "ax2.set_ylabel('Traffic')\n",
    "ax2.tick_params(axis='y', direction='in')\n",
    "ax2.set_ylim(0, 10000)\n",
    "\n",
    "ax1.set_zorder(ax2.get_zorder() + 10)\n",
    "ax1.patch.set_visible(False)\n",
    "\n",
    "ax1.legend(loc='upper left')\n",
    "ax2.legend(loc='upper right')\n",
    "\n",
    "plt.show()"
   ]
  },
  {
   "cell_type": "code",
   "execution_count": 11,
   "id": "955d85a0",
   "metadata": {},
   "outputs": [
    {
     "data": {
      "image/png": "[encoded data removed]",
      "text/plain": [
       "<Figure size 400x300 with 2 Axes>"
      ]
     },
     "metadata": {},
     "output_type": "display_data"
    }
   ],
   "source": [
    "# 1. 기본 스타일 설정\n",
    "plt.style.use('default')\n",
    "plt.rcParams['figure.figsize'] = (4, 3)\n",
    "plt.rcParams['font.size'] = 9\n",
    "\n",
    "# 2. 데이터 준비\n",
    "x = np.arange(24)\n",
    "time = [0,1,2,3,4,5,6,7,8,9,10,11,12,13,14,15,16,17,18,19,20,21,22,23]\n",
    "\n",
    "# 3. 그래프 그리기\n",
    "fig, bx1 = plt.subplots()\n",
    "\n",
    "bx1.plot(x, gang_diff, '-s', color='green', markersize=7, linewidth=3, alpha=0.7, label='Diff')\n",
    "bx1.set_xlabel('Time')\n",
    "bx1.set_ylabel('Diff')\n",
    "bx1.tick_params(axis='both', direction='in')\n",
    "\n",
    "bx2 = bx1.twinx()\n",
    "bx2.bar(x, gang_w, color='skyblue', label='Inner', alpha=0.6, width=0.7)\n",
    "bx2.set_ylabel('Traffic')\n",
    "bx2.tick_params(axis='y', direction='in')\n",
    "bx2.set_ylim(0, 10000)\n",
    "\n",
    "bx1.set_zorder(bx2.get_zorder() + 10)\n",
    "bx1.patch.set_visible(False)\n",
    "\n",
    "bx1.legend(loc='upper left')\n",
    "bx2.legend(loc='upper right')\n",
    "\n",
    "plt.show()"
   ]
  },
  {
   "cell_type": "code",
   "execution_count": 14,
   "id": "be4a1bec",
   "metadata": {},
   "outputs": [
    {
     "data": {
      "image/png": "[encoded data removed]",
      "text/plain": [
       "<Figure size 400x300 with 2 Axes>"
      ]
     },
     "metadata": {},
     "output_type": "display_data"
    },
    {
     "data": {
      "image/png": "[encoded data removed]",
      "text/plain": [
       "<Figure size 400x300 with 2 Axes>"
      ]
     },
     "metadata": {},
     "output_type": "display_data"
    }
   ],
   "source": [
    "# 1. 기본 스타일 설정\n",
    "plt.style.use('default')\n",
    "plt.rcParams['figure.figsize'] = (4, 3)\n",
    "plt.rcParams['font.size'] = 9\n",
    "\n",
    "# 2. 데이터 준비\n",
    "x = np.arange(24)\n",
    "time = [0,1,2,3,4,5,6,7,8,9,10,11,12,13,14,15,16,17,18,19,20,21,22,23]\n",
    "\n",
    "# 3. 그래프 그리기\n",
    "fig, ax1 = plt.subplots()\n",
    "\n",
    "ax1.plot(x, gang_diff, '-s', color='green', markersize=7, linewidth=3, alpha=0.7, label='Diff')\n",
    "ax1.set_xlabel('Time')\n",
    "ax1.set_ylabel('Diff')\n",
    "ax1.tick_params(axis='both', direction='in')\n",
    "\n",
    "ax2 = ax1.twinx()\n",
    "ax2.bar(x, gang_e, color='deeppink', label='Inner', alpha=0.6, width=0.7)\n",
    "ax2.set_ylabel('Traffic')\n",
    "ax2.tick_params(axis='y', direction='in')\n",
    "ax2.set_ylim(0, 10000)\n",
    "\n",
    "ax1.set_zorder(ax2.get_zorder() + 10)\n",
    "ax1.patch.set_visible(False)\n",
    "\n",
    "ax1.legend(loc='upper left')\n",
    "ax2.legend(loc='upper right')\n",
    "\n",
    "\n",
    "# 3. 그래프 그리기\n",
    "fig, bx1 = plt.subplots()\n",
    "\n",
    "bx1.plot(x, gang_diff, '-s', color='green', markersize=7, linewidth=3, alpha=0.7, label='Diff')\n",
    "bx1.set_xlabel('Time')\n",
    "bx1.set_ylabel('Diff')\n",
    "bx1.tick_params(axis='both', direction='in')\n",
    "\n",
    "bx2 = bx1.twinx()\n",
    "bx2.bar(x, gang_w, color='skyblue', label='Inner', alpha=0.6, width=0.7)\n",
    "bx2.set_ylabel('Traffic')\n",
    "bx2.tick_params(axis='y', direction='in')\n",
    "bx2.set_ylim(0, 10000)\n",
    "\n",
    "bx1.set_zorder(bx2.get_zorder() + 10)\n",
    "bx1.patch.set_visible(False)\n",
    "\n",
    "bx1.legend(loc='upper left')\n",
    "bx2.legend(loc='upper right')\n",
    "\n",
    "plt.show()"
   ]
  },
  {
   "cell_type": "code",
   "execution_count": null,
   "id": "00248831",
   "metadata": {},
   "outputs": [],
   "source": []
  },
  {
   "cell_type": "code",
   "execution_count": null,
   "id": "26965f8b",
   "metadata": {},
   "outputs": [],
   "source": []
  },
  {
   "cell_type": "code",
   "execution_count": null,
   "id": "c8b3e082",
   "metadata": {},
   "outputs": [],
   "source": []
  },
  {
   "cell_type": "code",
   "execution_count": null,
   "id": "c15e962e",
   "metadata": {},
   "outputs": [],
   "source": []
  },
  {
   "cell_type": "code",
   "execution_count": null,
   "id": "5bcca528",
   "metadata": {},
   "outputs": [],
   "source": []
  },
  {
   "cell_type": "code",
   "execution_count": null,
   "id": "a59baf2c",
   "metadata": {},
   "outputs": [],
   "source": []
  },
  {
   "cell_type": "code",
   "execution_count": null,
   "id": "37a84ea8",
   "metadata": {},
   "outputs": [],
   "source": []
  },
  {
   "cell_type": "code",
   "execution_count": null,
   "id": "05fefe99",
   "metadata": {},
   "outputs": [],
   "source": []
  },
  {
   "cell_type": "code",
   "execution_count": null,
   "id": "3355e656",
   "metadata": {},
   "outputs": [],
   "source": []
  },
  {
   "cell_type": "code",
   "execution_count": null,
   "id": "5ec8076f",
   "metadata": {},
   "outputs": [],
   "source": []
  },
  {
   "cell_type": "code",
   "execution_count": null,
   "id": "a550a026",
   "metadata": {},
   "outputs": [],
   "source": []
  },
  {
   "cell_type": "code",
   "execution_count": null,
   "id": "ce4c0087",
   "metadata": {},
   "outputs": [],
   "source": []
  },
  {
   "cell_type": "code",
   "execution_count": null,
   "id": "2b5299c0",
   "metadata": {},
   "outputs": [],
   "source": []
  },
  {
   "cell_type": "code",
   "execution_count": null,
   "id": "2e669c4d",
   "metadata": {},
   "outputs": [],
   "source": []
  }
 ],
 "metadata": {
  "kernelspec": {
   "display_name": "Python 3 (ipykernel)",
   "language": "python",
   "name": "python3"
  },
  "language_info": {
   "codemirror_mode": {
    "name": "ipython",
    "version": 3
   },
   "file_extension": ".py",
   "mimetype": "text/x-python",
   "name": "python",
   "nbconvert_exporter": "python",
   "pygments_lexer": "ipython3",
   "version": "3.8.13"
  }
 },
 "nbformat": 4,
 "nbformat_minor": 5
}
