{
 "cells": [
  {
   "cell_type": "markdown",
   "id": "78c5fdae",
   "metadata": {},
   "source": [
    "Seoul_ev_car"
   ]
  },
  {
   "cell_type": "markdown",
   "id": "1226ec0f",
   "metadata": {},
   "source": [
    "서울 전기차 등록대수 현황 (전체 년도)"
   ]
  },
  {
   "cell_type": "code",
   "execution_count": 22,
   "id": "2d3b7cb9",
   "metadata": {},
   "outputs": [],
   "source": [
    "import numpy as np\n",
    "import pandas as pd\n",
    "import dataframe_image as dfi"
   ]
  },
  {
   "cell_type": "code",
   "execution_count": 3,
   "id": "8b14a767",
   "metadata": {},
   "outputs": [],
   "source": [
    "ev_car = pd.read_csv('./data/한국전력공사_지역별 전기차 현황정보_20220429.csv')"
   ]
  },
  {
   "cell_type": "code",
   "execution_count": 4,
   "id": "4be895d9",
   "metadata": {},
   "outputs": [
    {
     "data": {
      "text/html": [
       "<div>\n",
       "<style scoped>\n",
       "    .dataframe tbody tr th:only-of-type {\n",
       "        vertical-align: middle;\n",
       "    }\n",
       "\n",
       "    .dataframe tbody tr th {\n",
       "        vertical-align: top;\n",
       "    }\n",
       "\n",
       "    .dataframe thead th {\n",
       "        text-align: right;\n",
       "    }\n",
       "</style>\n",
       "<table border=\"1\" class=\"dataframe\">\n",
       "  <thead>\n",
       "    <tr style=\"text-align: right;\">\n",
       "      <th></th>\n",
       "      <th>기준일</th>\n",
       "      <th>서울</th>\n",
       "      <th>인천</th>\n",
       "      <th>경기</th>\n",
       "      <th>강원</th>\n",
       "      <th>충북</th>\n",
       "      <th>충남</th>\n",
       "      <th>대전</th>\n",
       "      <th>세종</th>\n",
       "      <th>경북</th>\n",
       "      <th>대구</th>\n",
       "      <th>전북</th>\n",
       "      <th>전남</th>\n",
       "      <th>광주</th>\n",
       "      <th>경남</th>\n",
       "      <th>부산</th>\n",
       "      <th>울산</th>\n",
       "      <th>제주</th>\n",
       "      <th>합계</th>\n",
       "    </tr>\n",
       "  </thead>\n",
       "  <tbody>\n",
       "    <tr>\n",
       "      <th>0</th>\n",
       "      <td>2022-03-01</td>\n",
       "      <td>43206</td>\n",
       "      <td>14134</td>\n",
       "      <td>45891</td>\n",
       "      <td>8652</td>\n",
       "      <td>9683</td>\n",
       "      <td>11532</td>\n",
       "      <td>8595</td>\n",
       "      <td>2069</td>\n",
       "      <td>12318</td>\n",
       "      <td>17584</td>\n",
       "      <td>8404</td>\n",
       "      <td>9978</td>\n",
       "      <td>6015</td>\n",
       "      <td>14371</td>\n",
       "      <td>15330</td>\n",
       "      <td>3789</td>\n",
       "      <td>26702</td>\n",
       "      <td>258253</td>\n",
       "    </tr>\n",
       "    <tr>\n",
       "      <th>1</th>\n",
       "      <td>2022-02-01</td>\n",
       "      <td>41693</td>\n",
       "      <td>13179</td>\n",
       "      <td>41266</td>\n",
       "      <td>8179</td>\n",
       "      <td>8664</td>\n",
       "      <td>10525</td>\n",
       "      <td>7902</td>\n",
       "      <td>1902</td>\n",
       "      <td>11540</td>\n",
       "      <td>17091</td>\n",
       "      <td>7456</td>\n",
       "      <td>9203</td>\n",
       "      <td>5652</td>\n",
       "      <td>13536</td>\n",
       "      <td>13805</td>\n",
       "      <td>3405</td>\n",
       "      <td>26184</td>\n",
       "      <td>241182</td>\n",
       "    </tr>\n",
       "    <tr>\n",
       "      <th>2</th>\n",
       "      <td>2022-01-01</td>\n",
       "      <td>41140</td>\n",
       "      <td>12942</td>\n",
       "      <td>40239</td>\n",
       "      <td>8042</td>\n",
       "      <td>8184</td>\n",
       "      <td>10015</td>\n",
       "      <td>7675</td>\n",
       "      <td>1879</td>\n",
       "      <td>11269</td>\n",
       "      <td>16169</td>\n",
       "      <td>7389</td>\n",
       "      <td>8837</td>\n",
       "      <td>5204</td>\n",
       "      <td>12725</td>\n",
       "      <td>12501</td>\n",
       "      <td>3180</td>\n",
       "      <td>25580</td>\n",
       "      <td>232970</td>\n",
       "    </tr>\n",
       "    <tr>\n",
       "      <th>3</th>\n",
       "      <td>2021-12-01</td>\n",
       "      <td>40564</td>\n",
       "      <td>12820</td>\n",
       "      <td>39958</td>\n",
       "      <td>7946</td>\n",
       "      <td>8194</td>\n",
       "      <td>9991</td>\n",
       "      <td>7701</td>\n",
       "      <td>1859</td>\n",
       "      <td>11240</td>\n",
       "      <td>16185</td>\n",
       "      <td>7365</td>\n",
       "      <td>8708</td>\n",
       "      <td>5194</td>\n",
       "      <td>12606</td>\n",
       "      <td>12375</td>\n",
       "      <td>3166</td>\n",
       "      <td>25571</td>\n",
       "      <td>231443</td>\n",
       "    </tr>\n",
       "    <tr>\n",
       "      <th>4</th>\n",
       "      <td>2021-11-01</td>\n",
       "      <td>38840</td>\n",
       "      <td>11775</td>\n",
       "      <td>38563</td>\n",
       "      <td>7231</td>\n",
       "      <td>7731</td>\n",
       "      <td>9836</td>\n",
       "      <td>7737</td>\n",
       "      <td>1717</td>\n",
       "      <td>10870</td>\n",
       "      <td>16083</td>\n",
       "      <td>7147</td>\n",
       "      <td>8042</td>\n",
       "      <td>4978</td>\n",
       "      <td>12122</td>\n",
       "      <td>11766</td>\n",
       "      <td>3149</td>\n",
       "      <td>25381</td>\n",
       "      <td>222968</td>\n",
       "    </tr>\n",
       "  </tbody>\n",
       "</table>\n",
       "</div>"
      ],
      "text/plain": [
       "          기준일     서울     인천     경기    강원    충북     충남    대전    세종     경북  \\\n",
       "0  2022-03-01  43206  14134  45891  8652  9683  11532  8595  2069  12318   \n",
       "1  2022-02-01  41693  13179  41266  8179  8664  10525  7902  1902  11540   \n",
       "2  2022-01-01  41140  12942  40239  8042  8184  10015  7675  1879  11269   \n",
       "3  2021-12-01  40564  12820  39958  7946  8194   9991  7701  1859  11240   \n",
       "4  2021-11-01  38840  11775  38563  7231  7731   9836  7737  1717  10870   \n",
       "\n",
       "      대구    전북    전남    광주     경남     부산    울산     제주      합계  \n",
       "0  17584  8404  9978  6015  14371  15330  3789  26702  258253  \n",
       "1  17091  7456  9203  5652  13536  13805  3405  26184  241182  \n",
       "2  16169  7389  8837  5204  12725  12501  3180  25580  232970  \n",
       "3  16185  7365  8708  5194  12606  12375  3166  25571  231443  \n",
       "4  16083  7147  8042  4978  12122  11766  3149  25381  222968  "
      ]
     },
     "execution_count": 4,
     "metadata": {},
     "output_type": "execute_result"
    }
   ],
   "source": [
    "ev_car.head(5)"
   ]
  },
  {
   "cell_type": "code",
   "execution_count": 5,
   "id": "f769a8e1",
   "metadata": {},
   "outputs": [],
   "source": [
    "seoul_ev = ev_car.iloc[:,:2]\n",
    "seoul_ev = seoul_ev.sort_index(ascending=False)"
   ]
  },
  {
   "cell_type": "code",
   "execution_count": 6,
   "id": "b0f25449",
   "metadata": {},
   "outputs": [
    {
     "data": {
      "text/plain": [
       "DatetimeIndex(['2019-01-01', '2019-02-01', '2019-03-01', '2019-04-01',\n",
       "               '2019-05-01', '2019-06-01', '2019-07-01', '2019-08-01',\n",
       "               '2019-09-01', '2019-10-01', '2019-12-01', '2020-01-01',\n",
       "               '2020-02-01', '2020-03-01', '2020-04-01', '2020-05-01',\n",
       "               '2020-06-01', '2020-07-01', '2020-08-01', '2020-09-01',\n",
       "               '2020-10-01', '2020-11-01', '2020-12-01', '2021-01-01',\n",
       "               '2021-02-01', '2021-03-01', '2021-04-01', '2021-05-01',\n",
       "               '2021-06-01', '2021-07-01', '2021-08-01', '2021-09-01',\n",
       "               '2021-10-01', '2021-11-01', '2021-12-01', '2022-01-01',\n",
       "               '2022-02-01', '2022-03-01'],\n",
       "              dtype='datetime64[ns]', freq=None)"
      ]
     },
     "execution_count": 6,
     "metadata": {},
     "output_type": "execute_result"
    }
   ],
   "source": [
    "seoul_ev_date = seoul_ev.iloc[:,0].values\n",
    "pd.to_datetime(seoul_ev_date)"
   ]
  },
  {
   "cell_type": "code",
   "execution_count": 7,
   "id": "087dbc3f",
   "metadata": {},
   "outputs": [],
   "source": [
    "seoul_ev_car = seoul_ev.iloc[:,1].values"
   ]
  },
  {
   "cell_type": "code",
   "execution_count": 8,
   "id": "70f06c65",
   "metadata": {},
   "outputs": [],
   "source": [
    "#seoul_ev_car"
   ]
  },
  {
   "cell_type": "code",
   "execution_count": 9,
   "id": "27f8dca6",
   "metadata": {},
   "outputs": [],
   "source": [
    "import matplotlib.pyplot as plt"
   ]
  },
  {
   "cell_type": "code",
   "execution_count": 10,
   "id": "a4ffb67e",
   "metadata": {},
   "outputs": [
    {
     "data": {
      "image/png": "[encoded data removed]",
      "text/plain": [
       "<Figure size 432x288 with 1 Axes>"
      ]
     },
     "metadata": {
      "needs_background": "light"
     },
     "output_type": "display_data"
    },
    {
     "data": {
      "text/plain": [
       "<Figure size 720x360 with 0 Axes>"
      ]
     },
     "metadata": {},
     "output_type": "display_data"
    }
   ],
   "source": [
    "plt.plot(seoul_ev_date,seoul_ev_car,marker='o',markersize=4)\n",
    "plt.title('EV Car(2019-2022)')\n",
    "plt.xlabel('date')\n",
    "plt.ylabel('Evcar')\n",
    "plt.xticks(['2019-02-01','2020-02-01','2021-02-01','2022-02-01'])\n",
    "plt.figure(figsize=(10, 5))\n",
    "plt.show()"
   ]
  },
  {
   "cell_type": "markdown",
   "id": "78caf067",
   "metadata": {},
   "source": [
    "<hr>"
   ]
  },
  {
   "cell_type": "markdown",
   "id": "96b07247",
   "metadata": {},
   "source": [
    "서울 전기차 년도별 평균 등록대수"
   ]
  },
  {
   "cell_type": "code",
   "execution_count": 11,
   "id": "0c00ddaf",
   "metadata": {},
   "outputs": [
    {
     "data": {
      "text/html": [
       "<div>\n",
       "<style scoped>\n",
       "    .dataframe tbody tr th:only-of-type {\n",
       "        vertical-align: middle;\n",
       "    }\n",
       "\n",
       "    .dataframe tbody tr th {\n",
       "        vertical-align: top;\n",
       "    }\n",
       "\n",
       "    .dataframe thead th {\n",
       "        text-align: right;\n",
       "    }\n",
       "</style>\n",
       "<table border=\"1\" class=\"dataframe\">\n",
       "  <thead>\n",
       "    <tr style=\"text-align: right;\">\n",
       "      <th></th>\n",
       "      <th>기준일</th>\n",
       "      <th>서울</th>\n",
       "    </tr>\n",
       "  </thead>\n",
       "  <tbody>\n",
       "    <tr>\n",
       "      <th>37</th>\n",
       "      <td>2019-01-01</td>\n",
       "      <td>9571</td>\n",
       "    </tr>\n",
       "    <tr>\n",
       "      <th>36</th>\n",
       "      <td>2019-02-01</td>\n",
       "      <td>9647</td>\n",
       "    </tr>\n",
       "    <tr>\n",
       "      <th>35</th>\n",
       "      <td>2019-03-01</td>\n",
       "      <td>9934</td>\n",
       "    </tr>\n",
       "    <tr>\n",
       "      <th>34</th>\n",
       "      <td>2019-04-01</td>\n",
       "      <td>10175</td>\n",
       "    </tr>\n",
       "    <tr>\n",
       "      <th>33</th>\n",
       "      <td>2019-05-01</td>\n",
       "      <td>10613</td>\n",
       "    </tr>\n",
       "    <tr>\n",
       "      <th>32</th>\n",
       "      <td>2019-06-01</td>\n",
       "      <td>11082</td>\n",
       "    </tr>\n",
       "    <tr>\n",
       "      <th>31</th>\n",
       "      <td>2019-07-01</td>\n",
       "      <td>11764</td>\n",
       "    </tr>\n",
       "    <tr>\n",
       "      <th>30</th>\n",
       "      <td>2019-08-01</td>\n",
       "      <td>12050</td>\n",
       "    </tr>\n",
       "    <tr>\n",
       "      <th>29</th>\n",
       "      <td>2019-09-01</td>\n",
       "      <td>12389</td>\n",
       "    </tr>\n",
       "    <tr>\n",
       "      <th>28</th>\n",
       "      <td>2019-10-01</td>\n",
       "      <td>12711</td>\n",
       "    </tr>\n",
       "    <tr>\n",
       "      <th>27</th>\n",
       "      <td>2019-12-01</td>\n",
       "      <td>14952</td>\n",
       "    </tr>\n",
       "  </tbody>\n",
       "</table>\n",
       "</div>"
      ],
      "text/plain": [
       "           기준일     서울\n",
       "37  2019-01-01   9571\n",
       "36  2019-02-01   9647\n",
       "35  2019-03-01   9934\n",
       "34  2019-04-01  10175\n",
       "33  2019-05-01  10613\n",
       "32  2019-06-01  11082\n",
       "31  2019-07-01  11764\n",
       "30  2019-08-01  12050\n",
       "29  2019-09-01  12389\n",
       "28  2019-10-01  12711\n",
       "27  2019-12-01  14952"
      ]
     },
     "execution_count": 11,
     "metadata": {},
     "output_type": "execute_result"
    }
   ],
   "source": [
    "ev_car = ev_car.sort_index(ascending=False)\n",
    "ev_car_2019 = ev_car.iloc[:11,:2]\n",
    "ev_car_2019"
   ]
  },
  {
   "cell_type": "code",
   "execution_count": 12,
   "id": "03791d8e",
   "metadata": {},
   "outputs": [],
   "source": [
    "#ev_car"
   ]
  },
  {
   "cell_type": "code",
   "execution_count": 13,
   "id": "58e8a4fa",
   "metadata": {},
   "outputs": [
    {
     "data": {
      "text/html": [
       "<div>\n",
       "<style scoped>\n",
       "    .dataframe tbody tr th:only-of-type {\n",
       "        vertical-align: middle;\n",
       "    }\n",
       "\n",
       "    .dataframe tbody tr th {\n",
       "        vertical-align: top;\n",
       "    }\n",
       "\n",
       "    .dataframe thead th {\n",
       "        text-align: right;\n",
       "    }\n",
       "</style>\n",
       "<table border=\"1\" class=\"dataframe\">\n",
       "  <thead>\n",
       "    <tr style=\"text-align: right;\">\n",
       "      <th></th>\n",
       "      <th>기준일</th>\n",
       "      <th>서울</th>\n",
       "    </tr>\n",
       "  </thead>\n",
       "  <tbody>\n",
       "    <tr>\n",
       "      <th>26</th>\n",
       "      <td>2020-01-01</td>\n",
       "      <td>15353</td>\n",
       "    </tr>\n",
       "    <tr>\n",
       "      <th>25</th>\n",
       "      <td>2020-02-01</td>\n",
       "      <td>16438</td>\n",
       "    </tr>\n",
       "    <tr>\n",
       "      <th>24</th>\n",
       "      <td>2020-03-01</td>\n",
       "      <td>17172</td>\n",
       "    </tr>\n",
       "    <tr>\n",
       "      <th>23</th>\n",
       "      <td>2020-04-01</td>\n",
       "      <td>17622</td>\n",
       "    </tr>\n",
       "    <tr>\n",
       "      <th>22</th>\n",
       "      <td>2020-05-01</td>\n",
       "      <td>18098</td>\n",
       "    </tr>\n",
       "    <tr>\n",
       "      <th>21</th>\n",
       "      <td>2020-06-01</td>\n",
       "      <td>19411</td>\n",
       "    </tr>\n",
       "    <tr>\n",
       "      <th>20</th>\n",
       "      <td>2020-07-01</td>\n",
       "      <td>20003</td>\n",
       "    </tr>\n",
       "    <tr>\n",
       "      <th>19</th>\n",
       "      <td>2020-08-01</td>\n",
       "      <td>20997</td>\n",
       "    </tr>\n",
       "    <tr>\n",
       "      <th>18</th>\n",
       "      <td>2020-09-01</td>\n",
       "      <td>22118</td>\n",
       "    </tr>\n",
       "    <tr>\n",
       "      <th>17</th>\n",
       "      <td>2020-10-01</td>\n",
       "      <td>22676</td>\n",
       "    </tr>\n",
       "    <tr>\n",
       "      <th>16</th>\n",
       "      <td>2020-11-01</td>\n",
       "      <td>23052</td>\n",
       "    </tr>\n",
       "    <tr>\n",
       "      <th>15</th>\n",
       "      <td>2020-12-01</td>\n",
       "      <td>23393</td>\n",
       "    </tr>\n",
       "  </tbody>\n",
       "</table>\n",
       "</div>"
      ],
      "text/plain": [
       "           기준일     서울\n",
       "26  2020-01-01  15353\n",
       "25  2020-02-01  16438\n",
       "24  2020-03-01  17172\n",
       "23  2020-04-01  17622\n",
       "22  2020-05-01  18098\n",
       "21  2020-06-01  19411\n",
       "20  2020-07-01  20003\n",
       "19  2020-08-01  20997\n",
       "18  2020-09-01  22118\n",
       "17  2020-10-01  22676\n",
       "16  2020-11-01  23052\n",
       "15  2020-12-01  23393"
      ]
     },
     "execution_count": 13,
     "metadata": {},
     "output_type": "execute_result"
    }
   ],
   "source": [
    "ev_car_2020 = ev_car.iloc[11:23,:2]\n",
    "ev_car_2020"
   ]
  },
  {
   "cell_type": "code",
   "execution_count": 14,
   "id": "9e778833",
   "metadata": {},
   "outputs": [
    {
     "data": {
      "text/html": [
       "<div>\n",
       "<style scoped>\n",
       "    .dataframe tbody tr th:only-of-type {\n",
       "        vertical-align: middle;\n",
       "    }\n",
       "\n",
       "    .dataframe tbody tr th {\n",
       "        vertical-align: top;\n",
       "    }\n",
       "\n",
       "    .dataframe thead th {\n",
       "        text-align: right;\n",
       "    }\n",
       "</style>\n",
       "<table border=\"1\" class=\"dataframe\">\n",
       "  <thead>\n",
       "    <tr style=\"text-align: right;\">\n",
       "      <th></th>\n",
       "      <th>기준일</th>\n",
       "      <th>서울</th>\n",
       "    </tr>\n",
       "  </thead>\n",
       "  <tbody>\n",
       "    <tr>\n",
       "      <th>14</th>\n",
       "      <td>2021-01-01</td>\n",
       "      <td>23441</td>\n",
       "    </tr>\n",
       "    <tr>\n",
       "      <th>13</th>\n",
       "      <td>2021-02-01</td>\n",
       "      <td>23381</td>\n",
       "    </tr>\n",
       "    <tr>\n",
       "      <th>12</th>\n",
       "      <td>2021-03-01</td>\n",
       "      <td>24918</td>\n",
       "    </tr>\n",
       "    <tr>\n",
       "      <th>11</th>\n",
       "      <td>2021-04-01</td>\n",
       "      <td>25581</td>\n",
       "    </tr>\n",
       "    <tr>\n",
       "      <th>10</th>\n",
       "      <td>2021-05-01</td>\n",
       "      <td>27013</td>\n",
       "    </tr>\n",
       "    <tr>\n",
       "      <th>9</th>\n",
       "      <td>2021-06-01</td>\n",
       "      <td>28752</td>\n",
       "    </tr>\n",
       "    <tr>\n",
       "      <th>8</th>\n",
       "      <td>2021-07-01</td>\n",
       "      <td>29325</td>\n",
       "    </tr>\n",
       "    <tr>\n",
       "      <th>7</th>\n",
       "      <td>2021-08-01</td>\n",
       "      <td>31220</td>\n",
       "    </tr>\n",
       "    <tr>\n",
       "      <th>6</th>\n",
       "      <td>2021-09-01</td>\n",
       "      <td>33434</td>\n",
       "    </tr>\n",
       "    <tr>\n",
       "      <th>5</th>\n",
       "      <td>2021-10-01</td>\n",
       "      <td>35067</td>\n",
       "    </tr>\n",
       "    <tr>\n",
       "      <th>4</th>\n",
       "      <td>2021-11-01</td>\n",
       "      <td>38840</td>\n",
       "    </tr>\n",
       "    <tr>\n",
       "      <th>3</th>\n",
       "      <td>2021-12-01</td>\n",
       "      <td>40564</td>\n",
       "    </tr>\n",
       "  </tbody>\n",
       "</table>\n",
       "</div>"
      ],
      "text/plain": [
       "           기준일     서울\n",
       "14  2021-01-01  23441\n",
       "13  2021-02-01  23381\n",
       "12  2021-03-01  24918\n",
       "11  2021-04-01  25581\n",
       "10  2021-05-01  27013\n",
       "9   2021-06-01  28752\n",
       "8   2021-07-01  29325\n",
       "7   2021-08-01  31220\n",
       "6   2021-09-01  33434\n",
       "5   2021-10-01  35067\n",
       "4   2021-11-01  38840\n",
       "3   2021-12-01  40564"
      ]
     },
     "execution_count": 14,
     "metadata": {},
     "output_type": "execute_result"
    }
   ],
   "source": [
    "ev_car_2021 = ev_car.iloc[23:35,:2]\n",
    "ev_car_2021"
   ]
  },
  {
   "cell_type": "code",
   "execution_count": 15,
   "id": "5eadd3da",
   "metadata": {},
   "outputs": [
    {
     "data": {
      "text/html": [
       "<div>\n",
       "<style scoped>\n",
       "    .dataframe tbody tr th:only-of-type {\n",
       "        vertical-align: middle;\n",
       "    }\n",
       "\n",
       "    .dataframe tbody tr th {\n",
       "        vertical-align: top;\n",
       "    }\n",
       "\n",
       "    .dataframe thead th {\n",
       "        text-align: right;\n",
       "    }\n",
       "</style>\n",
       "<table border=\"1\" class=\"dataframe\">\n",
       "  <thead>\n",
       "    <tr style=\"text-align: right;\">\n",
       "      <th></th>\n",
       "      <th>기준일</th>\n",
       "      <th>서울</th>\n",
       "    </tr>\n",
       "  </thead>\n",
       "  <tbody>\n",
       "    <tr>\n",
       "      <th>2</th>\n",
       "      <td>2022-01-01</td>\n",
       "      <td>41140</td>\n",
       "    </tr>\n",
       "    <tr>\n",
       "      <th>1</th>\n",
       "      <td>2022-02-01</td>\n",
       "      <td>41693</td>\n",
       "    </tr>\n",
       "    <tr>\n",
       "      <th>0</th>\n",
       "      <td>2022-03-01</td>\n",
       "      <td>43206</td>\n",
       "    </tr>\n",
       "  </tbody>\n",
       "</table>\n",
       "</div>"
      ],
      "text/plain": [
       "          기준일     서울\n",
       "2  2022-01-01  41140\n",
       "1  2022-02-01  41693\n",
       "0  2022-03-01  43206"
      ]
     },
     "execution_count": 15,
     "metadata": {},
     "output_type": "execute_result"
    }
   ],
   "source": [
    "ev_car_2022 = ev_car.iloc[35:38,:2]\n",
    "ev_car_2022"
   ]
  },
  {
   "cell_type": "code",
   "execution_count": 16,
   "id": "ee695ffb",
   "metadata": {},
   "outputs": [],
   "source": [
    "#평균 데이터 값\n",
    "ev_car_2019_mean = ev_car_2019['서울'].mean()"
   ]
  },
  {
   "cell_type": "code",
   "execution_count": 17,
   "id": "6e9b5d3a",
   "metadata": {},
   "outputs": [],
   "source": [
    "ev_car_2020_mean = ev_car_2020['서울'].mean()"
   ]
  },
  {
   "cell_type": "code",
   "execution_count": 18,
   "id": "07bdefd1",
   "metadata": {},
   "outputs": [],
   "source": [
    "ev_car_2021_mean = ev_car_2021['서울'].mean()"
   ]
  },
  {
   "cell_type": "code",
   "execution_count": 19,
   "id": "6bdbf930",
   "metadata": {},
   "outputs": [],
   "source": [
    "ev_car_2022_mean = ev_car_2022['서울'].mean()"
   ]
  },
  {
   "cell_type": "code",
   "execution_count": 34,
   "id": "017eb341",
   "metadata": {},
   "outputs": [
    {
     "data": {
      "image/png": "[encoded data removed]",
      "text/plain": [
       "<Figure size 432x288 with 1 Axes>"
      ]
     },
     "metadata": {
      "needs_background": "light"
     },
     "output_type": "display_data"
    }
   ],
   "source": [
    "x = np.arange(4)\n",
    "years = ['2019', '2020', '2021','2022']\n",
    "values = [ev_car_2019_mean,ev_car_2020_mean,ev_car_2021_mean,ev_car_2022_mean]\n",
    "\n",
    "#plt.subplot(1,2,1)\n",
    "# plt.plot(seoul_ev_date,seoul_ev_car,marker='o',markersize=4)\n",
    "# plt.title('SEOUL EV Car(2019-2022)')\n",
    "# plt.xlabel('date')\n",
    "# plt.ylabel('Evcar')\n",
    "# plt.xticks(['2019-02-01','2020-02-01','2021-02-01','2022-02-01'])\n",
    "# plt.figure(figsize=(10, 5))\n",
    "\n",
    "#plt.subplot(1,2,2)\n",
    "plt.bar(x, values, width=0.8)\n",
    "plt.xticks(x, years)\n",
    "plt.title('SEOUL EV Car Mean(2019-2022)')\n",
    "plt.xlabel('date')\n",
    "plt.ylabel('Evcar')\n",
    "plt.savefig('seoul_ev_car')"
   ]
  },
  {
   "cell_type": "code",
   "execution_count": null,
   "id": "2a321abe",
   "metadata": {},
   "outputs": [],
   "source": []
  },
  {
   "cell_type": "code",
   "execution_count": null,
   "id": "579b2794",
   "metadata": {},
   "outputs": [],
   "source": []
  }
 ],
 "metadata": {
  "kernelspec": {
   "display_name": "Python 3 (ipykernel)",
   "language": "python",
   "name": "python3"
  },
  "language_info": {
   "codemirror_mode": {
    "name": "ipython",
    "version": 3
   },
   "file_extension": ".py",
   "mimetype": "text/x-python",
   "name": "python",
   "nbconvert_exporter": "python",
   "pygments_lexer": "ipython3",
   "version": "3.9.12"
  }
 },
 "nbformat": 4,
 "nbformat_minor": 5
}
